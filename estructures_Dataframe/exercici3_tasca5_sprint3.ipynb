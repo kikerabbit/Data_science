{
 "cells": [
  {
   "cell_type": "code",
   "execution_count": 1,
   "metadata": {},
   "outputs": [
    {
     "name": "stdout",
     "output_type": "stream",
     "text": [
      "[RangeIndex(start=0, stop=1936758, step=1), Index(['Unnamed: 0', 'Year', 'Month', 'DayofMonth', 'DayOfWeek', 'DepTime',\n",
      "       'CRSDepTime', 'ArrTime', 'CRSArrTime', 'UniqueCarrier', 'FlightNum',\n",
      "       'TailNum', 'ActualElapsedTime', 'CRSElapsedTime', 'AirTime', 'ArrDelay',\n",
      "       'DepDelay', 'Origin', 'Dest', 'Distance', 'TaxiIn', 'TaxiOut',\n",
      "       'Cancelled', 'CancellationCode', 'Diverted', 'CarrierDelay',\n",
      "       'WeatherDelay', 'NASDelay', 'SecurityDelay', 'LateAircraftDelay'],\n",
      "      dtype='object')]\n",
      "         Year  Month  DepTime  ArrTime  FlightNum  ActualElapsedTime  AirTime  \\\n",
      "0        2008      1   2003.0   2211.0        335              128.0    116.0   \n",
      "1        2008      1    754.0   1002.0       3231              128.0    113.0   \n",
      "2        2008      1    628.0    804.0        448               96.0     76.0   \n",
      "3        2008      1   1829.0   1959.0       3920               90.0     77.0   \n",
      "4        2008      1   1940.0   2121.0        378              101.0     87.0   \n",
      "...       ...    ...      ...      ...        ...                ...      ...   \n",
      "1936753  2008     12   1250.0   1617.0       1621              147.0    120.0   \n",
      "1936754  2008     12    657.0    904.0       1631              127.0     78.0   \n",
      "1936755  2008     12   1007.0   1149.0       1631              162.0    122.0   \n",
      "1936756  2008     12   1251.0   1446.0       1639              115.0     89.0   \n",
      "1936757  2008     12   1110.0   1413.0       1641              123.0    104.0   \n",
      "\n",
      "         ArrDelay  DepDelay Origin Dest  Distance  VelocitatMitja  Retard  \n",
      "0           -14.0       8.0    IAD  TPA       810        0.143210    True  \n",
      "1             2.0      19.0    IAD  TPA       810        0.139506   False  \n",
      "2            14.0       8.0    IND  BWI       515        0.147573   False  \n",
      "3            34.0      34.0    IND  BWI       515        0.149515   False  \n",
      "4            11.0      25.0    IND  JAX       688        0.126453   False  \n",
      "...           ...       ...    ...  ...       ...             ...     ...  \n",
      "1936753      25.0      30.0    MSP  ATL       906        0.132450   False  \n",
      "1936754      75.0      57.0    RIC  ATL       481        0.162162   False  \n",
      "1936755      99.0      80.0    ATL  IAH       689        0.177068   False  \n",
      "1936756       9.0      11.0    IAD  ATL       533        0.166979   False  \n",
      "1936757      -5.0       7.0    SAT  ATL       874        0.118993    True  \n",
      "\n",
      "[1936758 rows x 14 columns]\n"
     ]
    }
   ],
   "source": [
    "import pandas as pd\n",
    "import numpy as np\n",
    "import glob\n",
    "\n",
    "df = pd.read_csv('DelayedFlights.csv')\n",
    "dataset = pd.DataFrame(df)\n",
    "print(dataset.axes)\n",
    "dfinal = dataset.drop(columns = ['Unnamed: 0', 'DayofMonth', 'DayOfWeek',\n",
    "       'CRSDepTime', 'CRSArrTime', 'UniqueCarrier',\n",
    "       'TailNum', 'CRSElapsedTime', 'TaxiIn', 'TaxiOut',\n",
    "       'Cancelled', 'CancellationCode', 'Diverted', 'CarrierDelay',\n",
    "       'WeatherDelay', 'NASDelay', 'SecurityDelay', 'LateAircraftDelay'])\n",
    "\n",
    "dfinal['VelocitatMitja']=(dfinal['AirTime'] / dfinal['Distance'])\n",
    "dfinal['Retard']=(dfinal['ArrDelay'] < 0)\n",
    "print(dfinal)\n",
    "\n",
    "dfinal.describe()\n",
    "dfinal.to_csv('data_set_flights.csv')"
   ]
  },
  {
   "cell_type": "code",
   "execution_count": null,
   "metadata": {},
   "outputs": [],
   "source": []
  }
 ],
 "metadata": {
  "kernelspec": {
   "display_name": "Python 3",
   "language": "python",
   "name": "python3"
  },
  "language_info": {
   "codemirror_mode": {
    "name": "ipython",
    "version": 3
   },
   "file_extension": ".py",
   "mimetype": "text/x-python",
   "name": "python",
   "nbconvert_exporter": "python",
   "pygments_lexer": "ipython3",
   "version": "3.8.5"
  }
 },
 "nbformat": 4,
 "nbformat_minor": 4
}
