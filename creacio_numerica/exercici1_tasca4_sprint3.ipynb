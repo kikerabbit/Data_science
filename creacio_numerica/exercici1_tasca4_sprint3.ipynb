{
 "cells": [
  {
   "cell_type": "code",
   "execution_count": 1,
   "metadata": {},
   "outputs": [
    {
     "name": "stdout",
     "output_type": "stream",
     "text": [
      "Escriu el número extensió de l'array (fins a 100):56\n",
      "[15 19  1 17 24 23  9  3 19 12 17  9  1 16 19  4 17  1  9 23  6 11 18 21\n",
      "  2 22 22  1 15  6 14 12  4 24  9  8 11 11  3 13  9  1  0 23 11  4 11 13\n",
      " 20  7  1 24 21 10 21 14]\n",
      "1\n",
      "La mitja de la mostra és 12.160714285714286\n",
      "La mitjana de la mostra és 11.5\n",
      "La moda de la mostra és ModeResult(mode=array([1]), count=array([6]))\n",
      "La desvianció estandar és: 7.432498103681191\n",
      "La variança és: 55.242028061224495\n"
     ]
    }
   ],
   "source": [
    "import numpy as np\n",
    "from scipy import stats\n",
    "\n",
    "while True:\n",
    "    x = input('Escriu el número extensió de l\\'array (fins a 100):')\n",
    "    try:\n",
    "        x = int(x)\n",
    "    except:\n",
    "        pass\n",
    "    else: \n",
    "        if 0 <= x <= 100:\n",
    "            break\n",
    "            \n",
    "matriu = np.random.randint(0, 25, [x])\n",
    "print(matriu)\n",
    "print(matriu.ndim)\n",
    "mitja=np.mean(matriu)\n",
    "mitjana=np.median(matriu)\n",
    "moda=stats.mode(matriu)\n",
    "desviacioestandar=np.std(matriu)\n",
    "variança=np.var(matriu)\n",
    "print('La mitja de la mostra és', mitja)\n",
    "print('La mitjana de la mostra és', mitjana)\n",
    "print('La moda de la mostra és', moda)\n",
    "print('La desvianció estandar és:', desviacioestandar)\n",
    "print('La variança és:', variança)"
   ]
  },
  {
   "cell_type": "code",
   "execution_count": null,
   "metadata": {},
   "outputs": [],
   "source": []
  }
 ],
 "metadata": {
  "kernelspec": {
   "display_name": "Python 3",
   "language": "python",
   "name": "python3"
  },
  "language_info": {
   "codemirror_mode": {
    "name": "ipython",
    "version": 3
   },
   "file_extension": ".py",
   "mimetype": "text/x-python",
   "name": "python",
   "nbconvert_exporter": "python",
   "pygments_lexer": "ipython3",
   "version": "3.8.5"
  }
 },
 "nbformat": 4,
 "nbformat_minor": 4
}
