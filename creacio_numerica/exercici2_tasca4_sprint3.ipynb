{
 "cells": [
  {
   "cell_type": "code",
   "execution_count": 1,
   "metadata": {},
   "outputs": [
    {
     "name": "stdout",
     "output_type": "stream",
     "text": [
      "Escriu el número de fila i columna entre 0 i 20:99\n",
      "Escriu el número de fila i columna entre 0 i 20:11\n",
      "[[87 18 45 40 50 75 18 18  3 59 64]\n",
      " [50  4 72 94 97 72 19 87 24 38 51]\n",
      " [36 98 49 66  6  2 62  6 36 54 40]\n",
      " [77 71 17 96 65  2 82 79 13 24 14]\n",
      " [ 2 19 85 98 19 96 80  9 94 18 13]\n",
      " [30 49  7 68 80 83 14 76 41 74 56]\n",
      " [37  5 81 33 13 56 15 60 58 79 15]\n",
      " [61 68 88 10 12 23 32 42 80 74 82]\n",
      " [30 97 88 69 68 31 76 94 32 28 24]\n",
      " [21 97 89 92 25 81 46 71 59 44 85]\n",
      " [73  6 81 68 67 75 43 68 50 76  6]]\n"
     ]
    }
   ],
   "source": [
    "import numpy as np\n",
    "\n",
    "\n",
    "while True:\n",
    "    x = input('Escriu el número de fila i columna entre 0 i 20:')\n",
    "    try:\n",
    "        x = int(x)\n",
    "    except:\n",
    "        pass\n",
    "    else: \n",
    "        if 0 <= x <= 19:\n",
    "            break\n",
    "            \n",
    "matriu = np.random.randint(0, 100, [x,x])\n",
    "print(matriu)\n"
   ]
  },
  {
   "cell_type": "code",
   "execution_count": null,
   "metadata": {},
   "outputs": [],
   "source": []
  }
 ],
 "metadata": {
  "kernelspec": {
   "display_name": "Python 3",
   "language": "python",
   "name": "python3"
  },
  "language_info": {
   "codemirror_mode": {
    "name": "ipython",
    "version": 3
   },
   "file_extension": ".py",
   "mimetype": "text/x-python",
   "name": "python",
   "nbconvert_exporter": "python",
   "pygments_lexer": "ipython3",
   "version": "3.8.5"
  }
 },
 "nbformat": 4,
 "nbformat_minor": 4
}
