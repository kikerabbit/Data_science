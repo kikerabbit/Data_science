{
 "cells": [
  {
   "cell_type": "code",
   "execution_count": 1,
   "metadata": {},
   "outputs": [
    {
     "name": "stdout",
     "output_type": "stream",
     "text": [
      "Escriu el número de fila entre 0 i 15:5\n",
      "Escriu el número de columna entre 0 i 15:5\n",
      "[[19 24 16  2 21]\n",
      " [22 21 10 23  5]\n",
      " [21 18 12 11 21]\n",
      " [22 21  4 17  9]\n",
      " [21  2  1  3 19]]\n",
      "La suma de les columnes és: [105  86  43  56  75]\n",
      "La suma de les files és: [82 81 83 73 46]\n"
     ]
    }
   ],
   "source": [
    "import numpy as np\n",
    "\n",
    "x = input('Escriu el número de fila entre 0 i 15:')\n",
    "y = input('Escriu el número de columna entre 0 i 15:')\n",
    "\n",
    "while True:\n",
    "    try:\n",
    "        x = int(x)\n",
    "        y = int(y)\n",
    "    except:\n",
    "        pass\n",
    "    else: \n",
    "        if 0 <= x <= 14 and 0 <= y <= 14:\n",
    "            break\n",
    "            \n",
    "matriu = np.random.randint(1, 25, [x,y])\n",
    "print(matriu)  \n",
    "\n",
    "\n",
    "sumcol=np.apply_along_axis(sum,0,matriu)\n",
    "print('La suma de les columnes és:', sumcol)    \n",
    "\n",
    "sumfila=np.apply_along_axis(sum,1,matriu)\n",
    "print('La suma de les files és:', sumfila)\n",
    "\n"
   ]
  },
  {
   "cell_type": "code",
   "execution_count": null,
   "metadata": {},
   "outputs": [],
   "source": []
  }
 ],
 "metadata": {
  "kernelspec": {
   "display_name": "Python 3",
   "language": "python",
   "name": "python3"
  },
  "language_info": {
   "codemirror_mode": {
    "name": "ipython",
    "version": 3
   },
   "file_extension": ".py",
   "mimetype": "text/x-python",
   "name": "python",
   "nbconvert_exporter": "python",
   "pygments_lexer": "ipython3",
   "version": "3.8.5"
  }
 },
 "nbformat": 4,
 "nbformat_minor": 4
}
