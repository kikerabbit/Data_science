{
 "cells": [
  {
   "cell_type": "code",
   "execution_count": 8,
   "metadata": {},
   "outputs": [
    {
     "name": "stdout",
     "output_type": "stream",
     "text": [
      "{'Pomes': {'Qty': 5, '€': 0.42}, 'Peres': {'Qty': 3, '€': 0.66}}\n",
      "{'Pomes': {'Qty': 5, '€': 0.42}, 'Peres': {'Qty': 3, '€': 0.66}, 'Síndria': {'Qty': 4, '€': 0.7}}\n",
      "Quan han costat les peres en total?: 1.98 €\n",
      "Quantes fruites hem comprat en total): 12\n",
      "Quina és la fruita més cara?: 0.7\n"
     ]
    }
   ],
   "source": [
    "compra = {\"Pomes\":{\"Qty\":5,\"€\":0.42},\"Peres\":{\"Qty\":3,\"€\":0.66}}\n",
    "print(compra)\n",
    "# Afegir una nova fruita\n",
    "compra.update({'Síndria':{'Qty': 4,'€': 0.7}})\n",
    "print(compra)\n",
    "x = compra.get(\"Peres\")\n",
    "Qperes = x.get(\"Qty\")\n",
    "eperes = x.get('€')\n",
    "y = compra.get('Pomes')\n",
    "Qpomes = y.get(\"Qty\")\n",
    "epomes = y.get('€')\n",
    "z = compra.get('Síndria')\n",
    "Qsindria = z.get('Qty')\n",
    "esindria = z.get('€')\n",
    "print('Quan han costat les peres en total?:', Qperes*eperes, '€')\n",
    "print('Quantes fruites hem comprat en total):', Qpomes+Qperes+Qsindria)\n",
    "epomes = float(epomes)\n",
    "eperes = float(eperes)\n",
    "esindria = float(esindria)\n",
    "prices = [epomes,esindria,eperes]\n",
    "prices.sort()\n",
    "print('Quina és la fruita més cara?:', prices[-1])\n",
    "\n"
   ]
  },
  {
   "cell_type": "code",
   "execution_count": null,
   "metadata": {},
   "outputs": [],
   "source": []
  }
 ],
 "metadata": {
  "kernelspec": {
   "display_name": "Python 3",
   "language": "python",
   "name": "python3"
  },
  "language_info": {
   "codemirror_mode": {
    "name": "ipython",
    "version": 3
   },
   "file_extension": ".py",
   "mimetype": "text/x-python",
   "name": "python",
   "nbconvert_exporter": "python",
   "pygments_lexer": "ipython3",
   "version": "3.8.5"
  }
 },
 "nbformat": 4,
 "nbformat_minor": 4
}
