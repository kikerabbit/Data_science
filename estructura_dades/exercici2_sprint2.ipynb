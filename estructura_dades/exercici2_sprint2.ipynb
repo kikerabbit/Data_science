{
 "cells": [
  {
   "cell_type": "code",
   "execution_count": 1,
   "metadata": {},
   "outputs": [
    {
     "name": "stdout",
     "output_type": "stream",
     "text": [
      "febrer\n",
      "['gener', 'febrer', 'març']\n",
      "setembre\n",
      "octubre\n"
     ]
    }
   ],
   "source": [
    "trimestres = [[\"gener\",\"febrer\",\"març\"],[\"abril\",\"maig\",\"juny\"],[\"juliol\",\"agost\",\"setembre\"],[\"octubre\",\"novembre\",\"desembre\"]]\n",
    "print(trimestres[0][1])\n",
    "print(trimestres[0])\n",
    "print(trimestres[2][2])\n",
    "print(trimestres[3][0])"
   ]
  },
  {
   "cell_type": "code",
   "execution_count": null,
   "metadata": {},
   "outputs": [],
   "source": []
  }
 ],
 "metadata": {
  "kernelspec": {
   "display_name": "Python 3",
   "language": "python",
   "name": "python3"
  },
  "language_info": {
   "codemirror_mode": {
    "name": "ipython",
    "version": 3
   },
   "file_extension": ".py",
   "mimetype": "text/x-python",
   "name": "python",
   "nbconvert_exporter": "python",
   "pygments_lexer": "ipython3",
   "version": "3.8.5"
  }
 },
 "nbformat": 4,
 "nbformat_minor": 4
}
