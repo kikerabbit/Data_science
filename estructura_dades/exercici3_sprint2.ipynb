{
 "cells": [
  {
   "cell_type": "code",
   "execution_count": 5,
   "metadata": {
    "scrolled": true
   },
   "outputs": [
    {
     "name": "stdout",
     "output_type": "stream",
     "text": [
      "Quants números hi ha?: 20\n",
      "Quantes vegades apareix el numero 3?: 3\n",
      "Quantes vegades apareixen el nombres 3 i 4?: 4\n",
      "Quin és el numero més gran?; 2142\n",
      "[0, 3, 4, 5, 6, 7, 9, 10, 11, 15, 22, 55, 78, 171, 656, 843, 2142]\n",
      "Quins són els númeors més petits? [0, 3, 4]\n",
      "Quin és el rang d'aquesta llista?: 2142\n"
     ]
    }
   ],
   "source": [
    "num_des = [3,5,78,0,3,656,7,9,11,171,4,15,6,843,3,2142,15,22,55,10]\n",
    "x = len(num_des)\n",
    "print('Quants números hi ha?:', x)\n",
    "y = num_des.count(3)\n",
    "print('Quantes vegades apareix el numero 3?:', y)\n",
    "z = num_des.count(4) + y\n",
    "print('Quantes vegades apareixen el nombres 3 i 4?:', z)\n",
    "num_des.sort()\n",
    "print('Quin és el numero més gran?;', num_des[-1])\n",
    "num_o = set(num_des)\n",
    "num_o = list(num_o)\n",
    "num_o.sort()\n",
    "print(num_o)\n",
    "print('Quins són els númeors més petits?', num_o[:3])\n",
    "min = num_o[0]\n",
    "max = num_o[-1]\n",
    "rang = max-min\n",
    "print('Quin és el rang d\\'aquesta llista?:', rang)\n"
   ]
  },
  {
   "cell_type": "code",
   "execution_count": null,
   "metadata": {},
   "outputs": [],
   "source": []
  }
 ],
 "metadata": {
  "kernelspec": {
   "display_name": "Python 3",
   "language": "python",
   "name": "python3"
  },
  "language_info": {
   "codemirror_mode": {
    "name": "ipython",
    "version": 3
   },
   "file_extension": ".py",
   "mimetype": "text/x-python",
   "name": "python",
   "nbconvert_exporter": "python",
   "pygments_lexer": "ipython3",
   "version": "3.8.5"
  }
 },
 "nbformat": 4,
 "nbformat_minor": 4
}
