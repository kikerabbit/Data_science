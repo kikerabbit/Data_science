{
 "cells": [
  {
   "cell_type": "code",
   "execution_count": 1,
   "metadata": {},
   "outputs": [
    {
     "name": "stdout",
     "output_type": "stream",
     "text": [
      "[[11 13  5 14 24]\n",
      " [15 13  6 19  6]\n",
      " [19 18 10  7 20]\n",
      " [ 2 11 15 15  2]\n",
      " [ 2 20 13  2  2]]\n",
      "Escriu el número de fila entre 0 i 4:0\n",
      "Escriu el número de columna entre 0 i 4:5\n",
      "Escriu el número de fila entre 0 i 4:0\n",
      "Escriu el número de columna entre 0 i 4:3\n",
      "Elements fila: 0 són [11 13  5 14 24]\n",
      "Elements Columna: 3 són [14 19  7 15  2]\n",
      "[[11 13  5 14 24]\n",
      " [14 19  7 15  2]]\n",
      "La suma total fila i culumna és 110\n"
     ]
    }
   ],
   "source": [
    "import numpy as np\n",
    "\n",
    "matriu = np.random.randint(1, 25, [5,5])\n",
    "print(matriu)\n",
    "\n",
    "while True:\n",
    "    x = input('Escriu el número de fila entre 0 i 4:')\n",
    "    y = input('Escriu el número de columna entre 0 i 4:')\n",
    "    try:\n",
    "        x = int(x)\n",
    "        y = int(y)\n",
    "    except:\n",
    "        pass\n",
    "    else: \n",
    "        if 0 <= x <= 4 and 0 <= y <= 4:\n",
    "            break\n",
    "            \n",
    "fila = matriu[x,:]\n",
    "col = matriu[:,y]\n",
    "print('Elements fila:', x, 'són', fila)\n",
    "print('Elements Columna:', y, 'són', col)\n",
    "fc = np.stack((fila,col))\n",
    "print(fc)\n",
    "total = np.sum(fc)\n",
    "\n",
    "print('La suma total fila i culumna és', total-fc[0,y])"
   ]
  },
  {
   "cell_type": "code",
   "execution_count": null,
   "metadata": {},
   "outputs": [],
   "source": []
  }
 ],
 "metadata": {
  "kernelspec": {
   "display_name": "Python 3",
   "language": "python",
   "name": "python3"
  },
  "language_info": {
   "codemirror_mode": {
    "name": "ipython",
    "version": 3
   },
   "file_extension": ".py",
   "mimetype": "text/x-python",
   "name": "python",
   "nbconvert_exporter": "python",
   "pygments_lexer": "ipython3",
   "version": "3.8.5"
  }
 },
 "nbformat": 4,
 "nbformat_minor": 4
}
