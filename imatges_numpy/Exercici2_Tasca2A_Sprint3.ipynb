{
 "cells": [
  {
   "cell_type": "code",
   "execution_count": 1,
   "metadata": {},
   "outputs": [
    {
     "name": "stdout",
     "output_type": "stream",
     "text": [
      "[1 5 3 7 9 0 5 5]\n",
      "La mitja és: 5\n",
      "La mitjana de la llista és: 4.375\n",
      "El valor de 1 menys la mitjana és: -3.375\n",
      "El valor de 5 menys la mitjana és: 0.625\n",
      "El valor de 3 menys la mitjana és: -1.375\n",
      "El valor de 7 menys la mitjana és: 2.625\n",
      "El valor de 9 menys la mitjana és: 4.625\n",
      "El valor de 0 menys la mitjana és: -4.375\n",
      "El valor de 5 menys la mitjana és: 0.625\n",
      "El valor de 5 menys la mitjana és: 0.625\n"
     ]
    }
   ],
   "source": [
    "import numpy as np\n",
    "llista = np.array([1,5,3,7,9,0,5,5], dtype='i')\n",
    "print(llista)\n",
    "x=len(llista)\n",
    "def sumllista(llista):\n",
    "    if len(llista) == 1:\n",
    "        return llista[0]\n",
    "    else:\n",
    "        return llista[0] + sumllista(llista[1:])\n",
    "llista_ord = np.sort(llista)\n",
    "y = int(x/2)\n",
    "print('La mitja és:', llista_ord[y])\n",
    "v_m = sumllista(llista/x)\n",
    "print('La mitjana de la llista és:', v_m)\n",
    "for i in range(x):\n",
    "    print('El valor de', llista[i], 'menys la mitjana és:', llista[i] - v_m)\n",
    "    "
   ]
  },
  {
   "cell_type": "code",
   "execution_count": null,
   "metadata": {},
   "outputs": [],
   "source": []
  }
 ],
 "metadata": {
  "kernelspec": {
   "display_name": "Python 3",
   "language": "python",
   "name": "python3"
  },
  "language_info": {
   "codemirror_mode": {
    "name": "ipython",
    "version": 3
   },
   "file_extension": ".py",
   "mimetype": "text/x-python",
   "name": "python",
   "nbconvert_exporter": "python",
   "pygments_lexer": "ipython3",
   "version": "3.8.5"
  }
 },
 "nbformat": 4,
 "nbformat_minor": 4
}
