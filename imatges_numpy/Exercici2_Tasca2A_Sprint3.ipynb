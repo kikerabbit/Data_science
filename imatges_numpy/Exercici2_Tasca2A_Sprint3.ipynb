{
 "cells": [
  {
   "cell_type": "code",
   "execution_count": 16,
   "metadata": {},
   "outputs": [
    {
     "ename": "TypeError",
     "evalue": "array() missing required argument 'object' (pos 1)",
     "output_type": "error",
     "traceback": [
      "\u001b[1;31m---------------------------------------------------------------------------\u001b[0m",
      "\u001b[1;31mTypeError\u001b[0m                                 Traceback (most recent call last)",
      "\u001b[1;32m<ipython-input-16-5567b63c4784>\u001b[0m in \u001b[0;36m<module>\u001b[1;34m\u001b[0m\n\u001b[0;32m      1\u001b[0m \u001b[1;32mimport\u001b[0m \u001b[0mnumpy\u001b[0m \u001b[1;32mas\u001b[0m \u001b[0mnp\u001b[0m\u001b[1;33m\u001b[0m\u001b[1;33m\u001b[0m\u001b[0m\n\u001b[1;32m----> 2\u001b[1;33m \u001b[0mllista\u001b[0m \u001b[1;33m=\u001b[0m \u001b[0mnp\u001b[0m\u001b[1;33m.\u001b[0m\u001b[0marray\u001b[0m\u001b[1;33m(\u001b[0m\u001b[1;33m)\u001b[0m\u001b[1;33m\u001b[0m\u001b[1;33m\u001b[0m\u001b[0m\n\u001b[0m\u001b[0;32m      3\u001b[0m \u001b[1;32mfor\u001b[0m \u001b[0mx\u001b[0m \u001b[1;32min\u001b[0m \u001b[0mrange\u001b[0m\u001b[1;33m(\u001b[0m\u001b[1;36m8\u001b[0m\u001b[1;33m)\u001b[0m\u001b[1;33m:\u001b[0m\u001b[1;33m\u001b[0m\u001b[1;33m\u001b[0m\u001b[0m\n\u001b[0;32m      4\u001b[0m     \u001b[0mvalor\u001b[0m\u001b[1;33m=\u001b[0m\u001b[0mint\u001b[0m\u001b[1;33m(\u001b[0m\u001b[0minput\u001b[0m\u001b[1;33m(\u001b[0m\u001b[1;34m'Introdueix un número enter:'\u001b[0m\u001b[1;33m)\u001b[0m\u001b[1;33m)\u001b[0m\u001b[1;33m\u001b[0m\u001b[1;33m\u001b[0m\u001b[0m\n\u001b[0;32m      5\u001b[0m     \u001b[0mllista\u001b[0m\u001b[1;33m.\u001b[0m\u001b[0mappend\u001b[0m\u001b[1;33m(\u001b[0m\u001b[1;33m[\u001b[0m\u001b[0mx\u001b[0m\u001b[1;33m]\u001b[0m\u001b[1;33m)\u001b[0m\u001b[1;33m\u001b[0m\u001b[1;33m\u001b[0m\u001b[0m\n",
      "\u001b[1;31mTypeError\u001b[0m: array() missing required argument 'object' (pos 1)"
     ]
    }
   ],
   "source": [
    "import numpy as np\n",
    "llista = np.array()\n",
    "for x in range(8):\n",
    "    valor=int(input('Introdueix un número enter:'))\n",
    "    llista.append([x])\n",
    "print(llista)\n",
    "print(llista.ndim)\n",
    "print(llista.dtype)"
   ]
  },
  {
   "cell_type": "code",
   "execution_count": 12,
   "metadata": {},
   "outputs": [
    {
     "name": "stdout",
     "output_type": "stream",
     "text": [
      "[1 5 3 7 9 0 5 5]\n",
      "La mitja és: 5\n",
      "La mitjana de la llista és: 4.375\n",
      "El valor de 1 menys la mitjana és: -3.375\n",
      "El valor de 5 menys la mitjana és: 0.625\n",
      "El valor de 3 menys la mitjana és: -1.375\n",
      "El valor de 7 menys la mitjana és: 2.625\n",
      "El valor de 9 menys la mitjana és: 4.625\n",
      "El valor de 0 menys la mitjana és: -4.375\n",
      "El valor de 5 menys la mitjana és: 0.625\n",
      "El valor de 5 menys la mitjana és: 0.625\n"
     ]
    }
   ],
   "source": [
    "import numpy as np\n",
    "llista = np.array([1,5,3,7,9,0,5,5], dtype='i')\n",
    "print(llista)\n",
    "x=len(llista)\n",
    "def sumllista(llista):\n",
    "    if len(llista) == 1:\n",
    "        return llista[0]\n",
    "    else:\n",
    "        return llista[0] + sumllista(llista[1:])\n",
    "llista_ord = np.sort(llista)\n",
    "y = int(x/2)\n",
    "print('La mitja és:', llista_ord[y])\n",
    "v_m = sumllista(llista/x)\n",
    "print('La mitjana de la llista és:', v_m)\n",
    "for i in range(x):\n",
    "    print('El valor de', llista[i], 'menys la mitjana és:', llista[i] - v_m)\n",
    "    "
   ]
  },
  {
   "cell_type": "code",
   "execution_count": null,
   "metadata": {},
   "outputs": [],
   "source": []
  }
 ],
 "metadata": {
  "kernelspec": {
   "display_name": "Python 3",
   "language": "python",
   "name": "python3"
  },
  "language_info": {
   "codemirror_mode": {
    "name": "ipython",
    "version": 3
   },
   "file_extension": ".py",
   "mimetype": "text/x-python",
   "name": "python",
   "nbconvert_exporter": "python",
   "pygments_lexer": "ipython3",
   "version": "3.8.5"
  }
 },
 "nbformat": 4,
 "nbformat_minor": 4
}
