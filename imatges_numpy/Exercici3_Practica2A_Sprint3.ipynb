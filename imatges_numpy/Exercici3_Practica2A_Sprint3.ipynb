{
 "cells": [
  {
   "cell_type": "code",
   "execution_count": 1,
   "metadata": {},
   "outputs": [
    {
     "name": "stdout",
     "output_type": "stream",
     "text": [
      "[[17 16  5 14  5]\n",
      " [ 4  2 15 20  4]\n",
      " [ 9 23  2  9  1]\n",
      " [16 14  9 13 14]\n",
      " [15  3  2 23 22]]\n",
      "El valor màxim de la matriu és:  23\n",
      "El valor màxim de cada fila és:  [17 20 23 16 23]\n",
      "El valor màxim de cada columna és:  [17 23 15 23 22]\n"
     ]
    }
   ],
   "source": [
    "import numpy as np\n",
    "\n",
    "matriu = np.random.randint(1, 25, [5,5])\n",
    "\n",
    "print(matriu)\n",
    "\n",
    "v_max = np.amax(matriu)\n",
    "print('El valor màxim de la matriu és: ',v_max)\n",
    "fila = np.amax(matriu, axis=1)\n",
    "col = np.amax(matriu, axis=0)\n",
    "\n",
    "print('El valor màxim de cada fila és: ', fila)\n",
    "print('El valor màxim de cada columna és: ', col)"
   ]
  },
  {
   "cell_type": "code",
   "execution_count": null,
   "metadata": {},
   "outputs": [],
   "source": []
  }
 ],
 "metadata": {
  "kernelspec": {
   "display_name": "Python 3",
   "language": "python",
   "name": "python3"
  },
  "language_info": {
   "codemirror_mode": {
    "name": "ipython",
    "version": 3
   },
   "file_extension": ".py",
   "mimetype": "text/x-python",
   "name": "python",
   "nbconvert_exporter": "python",
   "pygments_lexer": "ipython3",
   "version": "3.8.5"
  }
 },
 "nbformat": 4,
 "nbformat_minor": 4
}
