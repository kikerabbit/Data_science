{
 "cells": [
  {
   "cell_type": "code",
   "execution_count": 5,
   "metadata": {},
   "outputs": [
    {
     "name": "stdout",
     "output_type": "stream",
     "text": [
      "[[24 32 13 22  4]\n",
      " [12 35 33 32 27]\n",
      " [35 18 28 28 27]\n",
      " [32  4  9  2 35]\n",
      " [ 7 15 17 23 10]]\n",
      "Es Divisible per 4?\n",
      "[[ True  True False False  True]\n",
      " [ True False False  True False]\n",
      " [False False  True  True False]\n",
      " [ True  True False False False]\n",
      " [False False False False False]]\n",
      "Valors exactes després de dividir per 4:\n",
      "[[6.   8.   3.25 5.5  1.  ]\n",
      " [3.   8.75 8.25 8.   6.75]\n",
      " [8.75 4.5  7.   7.   6.75]\n",
      " [8.   1.   2.25 0.5  8.75]\n",
      " [1.75 3.75 4.25 5.75 2.5 ]]\n",
      "Valors aplicant máscara\n",
      "[24 32  4 12 32 28 28 32  4]\n"
     ]
    }
   ],
   "source": [
    "import numpy as np\n",
    "\n",
    "matriu = np.random.randint(1, 36, [5,5])\n",
    "print(matriu)\n",
    "\n",
    "\n",
    "            \n",
    "\n",
    "print('Es Divisible per 4?')\n",
    "mask = matriu % 4 == 0\n",
    "print(mask)\n",
    "print('Valors exactes després de dividir per 4:')\n",
    "print(matriu / 4)\n",
    "print('Valors aplicant máscara')\n",
    "print(matriu[mask])"
   ]
  }
 ],
 "metadata": {
  "kernelspec": {
   "display_name": "Python 3",
   "language": "python",
   "name": "python3"
  },
  "language_info": {
   "codemirror_mode": {
    "name": "ipython",
    "version": 3
   },
   "file_extension": ".py",
   "mimetype": "text/x-python",
   "name": "python",
   "nbconvert_exporter": "python",
   "pygments_lexer": "ipython3",
   "version": "3.8.5"
  }
 },
 "nbformat": 4,
 "nbformat_minor": 4
}
