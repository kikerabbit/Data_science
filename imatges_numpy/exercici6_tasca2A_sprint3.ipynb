{
 "cells": [
  {
   "cell_type": "code",
   "execution_count": 1,
   "metadata": {},
   "outputs": [
    {
     "name": "stdout",
     "output_type": "stream",
     "text": [
      "[[14  6 33 35 14]\n",
      " [19 22  7 32 35]\n",
      " [ 1 19 31 19 29]\n",
      " [ 5 19 17  4  3]\n",
      " [30 24  6 17  3]]\n",
      "Es Divisible per 4?\n",
      "[[False False False False False]\n",
      " [False False False  True False]\n",
      " [False False False False False]\n",
      " [False False False  True False]\n",
      " [False  True False False False]]\n",
      "Valors exactes després de dividir per 4:\n",
      "[[3.5  1.5  8.25 8.75 3.5 ]\n",
      " [4.75 5.5  1.75 8.   8.75]\n",
      " [0.25 4.75 7.75 4.75 7.25]\n",
      " [1.25 4.75 4.25 1.   0.75]\n",
      " [7.5  6.   1.5  4.25 0.75]]\n"
     ]
    }
   ],
   "source": [
    "import numpy as np\n",
    "\n",
    "matriu = np.random.randint(1, 36, [5,5])\n",
    "print(matriu)\n",
    "\n",
    "\n",
    "            \n",
    "\n",
    "print('Es Divisible per 4?')\n",
    "print(matriu % 4 == 0)\n",
    "print('Valors exactes després de dividir per 4:')\n",
    "print(matriu / 4)"
   ]
  },
  {
   "cell_type": "code",
   "execution_count": null,
   "metadata": {},
   "outputs": [],
   "source": []
  }
 ],
 "metadata": {
  "kernelspec": {
   "display_name": "Python 3",
   "language": "python",
   "name": "python3"
  },
  "language_info": {
   "codemirror_mode": {
    "name": "ipython",
    "version": 3
   },
   "file_extension": ".py",
   "mimetype": "text/x-python",
   "name": "python",
   "nbconvert_exporter": "python",
   "pygments_lexer": "ipython3",
   "version": "3.8.5"
  }
 },
 "nbformat": 4,
 "nbformat_minor": 4
}
