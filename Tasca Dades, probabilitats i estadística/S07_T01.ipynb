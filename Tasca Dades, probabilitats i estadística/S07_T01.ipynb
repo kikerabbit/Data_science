{
 "cells": [
  {
   "cell_type": "markdown",
   "metadata": {},
   "source": [
    "# Exercici 1"
   ]
  },
  {
   "cell_type": "code",
   "execution_count": 1,
   "metadata": {},
   "outputs": [],
   "source": [
    "import pandas as pd\n",
    "import numpy as np\n"
   ]
  },
  {
   "cell_type": "code",
   "execution_count": 5,
   "metadata": {},
   "outputs": [],
   "source": [
    "df_stages = pd.read_csv('usuaris_montserrat.csv')"
   ]
  },
  {
   "cell_type": "code",
   "execution_count": 6,
   "metadata": {},
   "outputs": [
    {
     "data": {
      "text/html": [
       "<div>\n",
       "<style scoped>\n",
       "    .dataframe tbody tr th:only-of-type {\n",
       "        vertical-align: middle;\n",
       "    }\n",
       "\n",
       "    .dataframe tbody tr th {\n",
       "        vertical-align: top;\n",
       "    }\n",
       "\n",
       "    .dataframe thead th {\n",
       "        text-align: right;\n",
       "    }\n",
       "</style>\n",
       "<table border=\"1\" class=\"dataframe\">\n",
       "  <thead>\n",
       "    <tr style=\"text-align: right;\">\n",
       "      <th></th>\n",
       "      <th>Data</th>\n",
       "      <th>Bateries</th>\n",
       "      <th>Camí de l'Arrel</th>\n",
       "      <th>Coll de Guirló</th>\n",
       "      <th>Camí del Francesos</th>\n",
       "      <th>La Pedrera</th>\n",
       "      <th>Sant Miquel</th>\n",
       "      <th>Taràntules</th>\n",
       "      <th>Tres quarts</th>\n",
       "      <th>Total</th>\n",
       "      <th>Dia Setmana</th>\n",
       "      <th>Mes</th>\n",
       "    </tr>\n",
       "  </thead>\n",
       "  <tbody>\n",
       "    <tr>\n",
       "      <th>0</th>\n",
       "      <td>01/01/2019</td>\n",
       "      <td>65.5</td>\n",
       "      <td>47.0</td>\n",
       "      <td>119.5</td>\n",
       "      <td>51.0</td>\n",
       "      <td>506.0</td>\n",
       "      <td>812.0</td>\n",
       "      <td>272.5</td>\n",
       "      <td>NaN</td>\n",
       "      <td>1873.5</td>\n",
       "      <td>dimarts</td>\n",
       "      <td>gener</td>\n",
       "    </tr>\n",
       "    <tr>\n",
       "      <th>1</th>\n",
       "      <td>02/01/2019</td>\n",
       "      <td>26.5</td>\n",
       "      <td>22.0</td>\n",
       "      <td>72.0</td>\n",
       "      <td>14.0</td>\n",
       "      <td>326.5</td>\n",
       "      <td>824.5</td>\n",
       "      <td>215.5</td>\n",
       "      <td>NaN</td>\n",
       "      <td>1501.0</td>\n",
       "      <td>dimecres</td>\n",
       "      <td>gener</td>\n",
       "    </tr>\n",
       "    <tr>\n",
       "      <th>2</th>\n",
       "      <td>03/01/2019</td>\n",
       "      <td>41.0</td>\n",
       "      <td>20.0</td>\n",
       "      <td>97.0</td>\n",
       "      <td>47.0</td>\n",
       "      <td>370.0</td>\n",
       "      <td>741.5</td>\n",
       "      <td>284.5</td>\n",
       "      <td>NaN</td>\n",
       "      <td>1601.0</td>\n",
       "      <td>dijous</td>\n",
       "      <td>gener</td>\n",
       "    </tr>\n",
       "    <tr>\n",
       "      <th>3</th>\n",
       "      <td>04/01/2019</td>\n",
       "      <td>40.5</td>\n",
       "      <td>25.0</td>\n",
       "      <td>111.0</td>\n",
       "      <td>36.0</td>\n",
       "      <td>370.0</td>\n",
       "      <td>682.5</td>\n",
       "      <td>282.5</td>\n",
       "      <td>NaN</td>\n",
       "      <td>1547.5</td>\n",
       "      <td>divendres</td>\n",
       "      <td>gener</td>\n",
       "    </tr>\n",
       "    <tr>\n",
       "      <th>4</th>\n",
       "      <td>05/01/2019</td>\n",
       "      <td>48.5</td>\n",
       "      <td>54.0</td>\n",
       "      <td>174.0</td>\n",
       "      <td>71.0</td>\n",
       "      <td>411.5</td>\n",
       "      <td>631.0</td>\n",
       "      <td>217.0</td>\n",
       "      <td>NaN</td>\n",
       "      <td>1607.0</td>\n",
       "      <td>dissabte</td>\n",
       "      <td>gener</td>\n",
       "    </tr>\n",
       "    <tr>\n",
       "      <th>5</th>\n",
       "      <td>06/01/2019</td>\n",
       "      <td>51.0</td>\n",
       "      <td>31.0</td>\n",
       "      <td>79.0</td>\n",
       "      <td>33.0</td>\n",
       "      <td>281.0</td>\n",
       "      <td>589.0</td>\n",
       "      <td>173.0</td>\n",
       "      <td>NaN</td>\n",
       "      <td>1237.0</td>\n",
       "      <td>diumenge</td>\n",
       "      <td>gener</td>\n",
       "    </tr>\n",
       "    <tr>\n",
       "      <th>6</th>\n",
       "      <td>07/01/2019</td>\n",
       "      <td>16.0</td>\n",
       "      <td>6.5</td>\n",
       "      <td>56.5</td>\n",
       "      <td>25.5</td>\n",
       "      <td>111.0</td>\n",
       "      <td>413.5</td>\n",
       "      <td>92.5</td>\n",
       "      <td>NaN</td>\n",
       "      <td>721.5</td>\n",
       "      <td>dilluns</td>\n",
       "      <td>gener</td>\n",
       "    </tr>\n",
       "    <tr>\n",
       "      <th>7</th>\n",
       "      <td>08/01/2019</td>\n",
       "      <td>14.5</td>\n",
       "      <td>3.0</td>\n",
       "      <td>28.5</td>\n",
       "      <td>8.5</td>\n",
       "      <td>141.0</td>\n",
       "      <td>242.0</td>\n",
       "      <td>69.5</td>\n",
       "      <td>NaN</td>\n",
       "      <td>507.0</td>\n",
       "      <td>dimarts</td>\n",
       "      <td>gener</td>\n",
       "    </tr>\n",
       "    <tr>\n",
       "      <th>8</th>\n",
       "      <td>09/01/2019</td>\n",
       "      <td>12.0</td>\n",
       "      <td>10.5</td>\n",
       "      <td>22.0</td>\n",
       "      <td>9.5</td>\n",
       "      <td>134.0</td>\n",
       "      <td>321.5</td>\n",
       "      <td>135.5</td>\n",
       "      <td>NaN</td>\n",
       "      <td>645.0</td>\n",
       "      <td>dimecres</td>\n",
       "      <td>gener</td>\n",
       "    </tr>\n",
       "    <tr>\n",
       "      <th>9</th>\n",
       "      <td>10/01/2019</td>\n",
       "      <td>15.5</td>\n",
       "      <td>8.0</td>\n",
       "      <td>26.0</td>\n",
       "      <td>17.0</td>\n",
       "      <td>128.5</td>\n",
       "      <td>283.0</td>\n",
       "      <td>81.5</td>\n",
       "      <td>NaN</td>\n",
       "      <td>559.5</td>\n",
       "      <td>dijous</td>\n",
       "      <td>gener</td>\n",
       "    </tr>\n",
       "  </tbody>\n",
       "</table>\n",
       "</div>"
      ],
      "text/plain": [
       "         Data  Bateries  Camí de l'Arrel  Coll de Guirló  Camí del Francesos  \\\n",
       "0  01/01/2019      65.5             47.0           119.5                51.0   \n",
       "1  02/01/2019      26.5             22.0            72.0                14.0   \n",
       "2  03/01/2019      41.0             20.0            97.0                47.0   \n",
       "3  04/01/2019      40.5             25.0           111.0                36.0   \n",
       "4  05/01/2019      48.5             54.0           174.0                71.0   \n",
       "5  06/01/2019      51.0             31.0            79.0                33.0   \n",
       "6  07/01/2019      16.0              6.5            56.5                25.5   \n",
       "7  08/01/2019      14.5              3.0            28.5                 8.5   \n",
       "8  09/01/2019      12.0             10.5            22.0                 9.5   \n",
       "9  10/01/2019      15.5              8.0            26.0                17.0   \n",
       "\n",
       "   La Pedrera  Sant Miquel  Taràntules  Tres quarts   Total Dia Setmana    Mes  \n",
       "0       506.0        812.0       272.5          NaN  1873.5     dimarts  gener  \n",
       "1       326.5        824.5       215.5          NaN  1501.0    dimecres  gener  \n",
       "2       370.0        741.5       284.5          NaN  1601.0      dijous  gener  \n",
       "3       370.0        682.5       282.5          NaN  1547.5   divendres  gener  \n",
       "4       411.5        631.0       217.0          NaN  1607.0    dissabte  gener  \n",
       "5       281.0        589.0       173.0          NaN  1237.0    diumenge  gener  \n",
       "6       111.0        413.5        92.5          NaN   721.5     dilluns  gener  \n",
       "7       141.0        242.0        69.5          NaN   507.0     dimarts  gener  \n",
       "8       134.0        321.5       135.5          NaN   645.0    dimecres  gener  \n",
       "9       128.5        283.0        81.5          NaN   559.5      dijous  gener  "
      ]
     },
     "execution_count": 6,
     "metadata": {},
     "output_type": "execute_result"
    }
   ],
   "source": [
    "df_stages.head(10)"
   ]
  },
  {
   "cell_type": "code",
   "execution_count": 7,
   "metadata": {},
   "outputs": [
    {
     "name": "stdout",
     "output_type": "stream",
     "text": [
      "<class 'pandas.core.frame.DataFrame'>\n",
      "RangeIndex: 731 entries, 0 to 730\n",
      "Data columns (total 12 columns):\n",
      " #   Column              Non-Null Count  Dtype  \n",
      "---  ------              --------------  -----  \n",
      " 0   Data                731 non-null    object \n",
      " 1   Bateries            731 non-null    float64\n",
      " 2   Camí de l'Arrel     731 non-null    float64\n",
      " 3   Coll de Guirló      731 non-null    float64\n",
      " 4   Camí del Francesos  731 non-null    float64\n",
      " 5   La Pedrera          731 non-null    float64\n",
      " 6   Sant Miquel         731 non-null    float64\n",
      " 7   Taràntules          731 non-null    float64\n",
      " 8   Tres quarts         302 non-null    float64\n",
      " 9   Total               731 non-null    float64\n",
      " 10  Dia Setmana         731 non-null    object \n",
      " 11  Mes                 731 non-null    object \n",
      "dtypes: float64(9), object(3)\n",
      "memory usage: 68.7+ KB\n"
     ]
    }
   ],
   "source": [
    "df_stages.info()"
   ]
  },
  {
   "cell_type": "code",
   "execution_count": 40,
   "metadata": {},
   "outputs": [
    {
     "name": "stdout",
     "output_type": "stream",
     "text": [
      "Moda de La Pedrera: 0.0\n"
     ]
    }
   ],
   "source": [
    "#La Pedrera Moda:\n",
    "print(f\"Moda de La Pedrera: {df_stages['La Pedrera'].mode()[0]}\")"
   ]
  },
  {
   "cell_type": "code",
   "execution_count": 38,
   "metadata": {},
   "outputs": [
    {
     "name": "stdout",
     "output_type": "stream",
     "text": [
      "Mediana de La Pedrera: 247.5\n"
     ]
    }
   ],
   "source": [
    "#La Pedrera Mediana\n",
    "print(f\"Mediana de La Pedrera: {df_stages['La Pedrera'].median()}\")"
   ]
  },
  {
   "cell_type": "code",
   "execution_count": 36,
   "metadata": {},
   "outputs": [
    {
     "name": "stdout",
     "output_type": "stream",
     "text": [
      "Mitjana aritmetica of La Pedrera: 327.52\n"
     ]
    }
   ],
   "source": [
    "#La Pedrera Mitjana aritmètica\n",
    "print(f\"Mitjana aritmetica of La Pedrera: {round(df_stages['La Pedrera'].mean(), 2)}\")"
   ]
  },
  {
   "cell_type": "code",
   "execution_count": 35,
   "metadata": {},
   "outputs": [
    {
     "name": "stdout",
     "output_type": "stream",
     "text": [
      "Desviació estandar de La Pedrera: 287.59\n"
     ]
    }
   ],
   "source": [
    "#La Pedrera Desviació Estandar\n",
    "print(f\"Desviació estandar de La Pedrera: {round(df_stages['La Pedrera'].std(), 2)}\")"
   ]
  },
  {
   "cell_type": "markdown",
   "metadata": {},
   "source": [
    "# Exercici 2"
   ]
  },
  {
   "cell_type": "code",
   "execution_count": 41,
   "metadata": {},
   "outputs": [
    {
     "name": "stdout",
     "output_type": "stream",
     "text": [
      "Correlació entre la Pedrera i el Total: 0.941\n"
     ]
    }
   ],
   "source": [
    "#Correlació entre La Pedrera i Total\n",
    "print(f\"Correlació entre la Pedrera i el Total: {round(df_stages['La Pedrera'].corr(df_stages['Total']), 3)}\")"
   ]
  },
  {
   "cell_type": "markdown",
   "metadata": {},
   "source": [
    "# Exercici 3"
   ]
  },
  {
   "cell_type": "code",
   "execution_count": 50,
   "metadata": {},
   "outputs": [],
   "source": [
    "from matplotlib import pyplot as plt\n",
    "import seaborn as sb"
   ]
  },
  {
   "cell_type": "code",
   "execution_count": 51,
   "metadata": {},
   "outputs": [
    {
     "data": {
      "text/html": [
       "<div>\n",
       "<style scoped>\n",
       "    .dataframe tbody tr th:only-of-type {\n",
       "        vertical-align: middle;\n",
       "    }\n",
       "\n",
       "    .dataframe tbody tr th {\n",
       "        vertical-align: top;\n",
       "    }\n",
       "\n",
       "    .dataframe thead th {\n",
       "        text-align: right;\n",
       "    }\n",
       "</style>\n",
       "<table border=\"1\" class=\"dataframe\">\n",
       "  <thead>\n",
       "    <tr style=\"text-align: right;\">\n",
       "      <th></th>\n",
       "      <th>Bateries</th>\n",
       "      <th>Camí de l'Arrel</th>\n",
       "      <th>Coll de Guirló</th>\n",
       "      <th>Camí del Francesos</th>\n",
       "      <th>La Pedrera</th>\n",
       "      <th>Sant Miquel</th>\n",
       "      <th>Taràntules</th>\n",
       "      <th>Tres quarts</th>\n",
       "    </tr>\n",
       "  </thead>\n",
       "  <tbody>\n",
       "    <tr>\n",
       "      <th>Bateries</th>\n",
       "      <td>1.000000</td>\n",
       "      <td>0.636506</td>\n",
       "      <td>0.618176</td>\n",
       "      <td>0.723799</td>\n",
       "      <td>0.644981</td>\n",
       "      <td>0.431582</td>\n",
       "      <td>0.524509</td>\n",
       "      <td>0.638585</td>\n",
       "    </tr>\n",
       "    <tr>\n",
       "      <th>Camí de l'Arrel</th>\n",
       "      <td>0.636506</td>\n",
       "      <td>1.000000</td>\n",
       "      <td>0.837596</td>\n",
       "      <td>0.841674</td>\n",
       "      <td>0.833365</td>\n",
       "      <td>0.519580</td>\n",
       "      <td>0.660955</td>\n",
       "      <td>0.881282</td>\n",
       "    </tr>\n",
       "    <tr>\n",
       "      <th>Coll de Guirló</th>\n",
       "      <td>0.618176</td>\n",
       "      <td>0.837596</td>\n",
       "      <td>1.000000</td>\n",
       "      <td>0.808174</td>\n",
       "      <td>0.770035</td>\n",
       "      <td>0.481073</td>\n",
       "      <td>0.583550</td>\n",
       "      <td>0.926358</td>\n",
       "    </tr>\n",
       "    <tr>\n",
       "      <th>Camí del Francesos</th>\n",
       "      <td>0.723799</td>\n",
       "      <td>0.841674</td>\n",
       "      <td>0.808174</td>\n",
       "      <td>1.000000</td>\n",
       "      <td>0.748864</td>\n",
       "      <td>0.455088</td>\n",
       "      <td>0.552310</td>\n",
       "      <td>0.812451</td>\n",
       "    </tr>\n",
       "    <tr>\n",
       "      <th>La Pedrera</th>\n",
       "      <td>0.644981</td>\n",
       "      <td>0.833365</td>\n",
       "      <td>0.770035</td>\n",
       "      <td>0.748864</td>\n",
       "      <td>1.000000</td>\n",
       "      <td>0.745914</td>\n",
       "      <td>0.885439</td>\n",
       "      <td>0.941045</td>\n",
       "    </tr>\n",
       "    <tr>\n",
       "      <th>Sant Miquel</th>\n",
       "      <td>0.431582</td>\n",
       "      <td>0.519580</td>\n",
       "      <td>0.481073</td>\n",
       "      <td>0.455088</td>\n",
       "      <td>0.745914</td>\n",
       "      <td>1.000000</td>\n",
       "      <td>0.806579</td>\n",
       "      <td>0.909995</td>\n",
       "    </tr>\n",
       "    <tr>\n",
       "      <th>Taràntules</th>\n",
       "      <td>0.524509</td>\n",
       "      <td>0.660955</td>\n",
       "      <td>0.583550</td>\n",
       "      <td>0.552310</td>\n",
       "      <td>0.885439</td>\n",
       "      <td>0.806579</td>\n",
       "      <td>1.000000</td>\n",
       "      <td>0.884677</td>\n",
       "    </tr>\n",
       "    <tr>\n",
       "      <th>Tres quarts</th>\n",
       "      <td>0.638585</td>\n",
       "      <td>0.881282</td>\n",
       "      <td>0.926358</td>\n",
       "      <td>0.812451</td>\n",
       "      <td>0.941045</td>\n",
       "      <td>0.909995</td>\n",
       "      <td>0.884677</td>\n",
       "      <td>1.000000</td>\n",
       "    </tr>\n",
       "  </tbody>\n",
       "</table>\n",
       "</div>"
      ],
      "text/plain": [
       "                    Bateries  Camí de l'Arrel  Coll de Guirló  \\\n",
       "Bateries            1.000000         0.636506        0.618176   \n",
       "Camí de l'Arrel     0.636506         1.000000        0.837596   \n",
       "Coll de Guirló      0.618176         0.837596        1.000000   \n",
       "Camí del Francesos  0.723799         0.841674        0.808174   \n",
       "La Pedrera          0.644981         0.833365        0.770035   \n",
       "Sant Miquel         0.431582         0.519580        0.481073   \n",
       "Taràntules          0.524509         0.660955        0.583550   \n",
       "Tres quarts         0.638585         0.881282        0.926358   \n",
       "\n",
       "                    Camí del Francesos  La Pedrera  Sant Miquel  Taràntules  \\\n",
       "Bateries                      0.723799    0.644981     0.431582    0.524509   \n",
       "Camí de l'Arrel               0.841674    0.833365     0.519580    0.660955   \n",
       "Coll de Guirló                0.808174    0.770035     0.481073    0.583550   \n",
       "Camí del Francesos            1.000000    0.748864     0.455088    0.552310   \n",
       "La Pedrera                    0.748864    1.000000     0.745914    0.885439   \n",
       "Sant Miquel                   0.455088    0.745914     1.000000    0.806579   \n",
       "Taràntules                    0.552310    0.885439     0.806579    1.000000   \n",
       "Tres quarts                   0.812451    0.941045     0.909995    0.884677   \n",
       "\n",
       "                    Tres quarts  \n",
       "Bateries               0.638585  \n",
       "Camí de l'Arrel        0.881282  \n",
       "Coll de Guirló         0.926358  \n",
       "Camí del Francesos     0.812451  \n",
       "La Pedrera             0.941045  \n",
       "Sant Miquel            0.909995  \n",
       "Taràntules             0.884677  \n",
       "Tres quarts            1.000000  "
      ]
     },
     "execution_count": 51,
     "metadata": {},
     "output_type": "execute_result"
    }
   ],
   "source": [
    "df_stages.drop(axis=1, columns='Total').corr()"
   ]
  },
  {
   "cell_type": "code",
   "execution_count": 52,
   "metadata": {},
   "outputs": [
    {
     "data": {
      "text/plain": [
       "<AxesSubplot:>"
      ]
     },
     "execution_count": 52,
     "metadata": {},
     "output_type": "execute_result"
    },
    {
     "data": {
      "image/png": "[encoded data removed]",
      "text/plain": [
       "<Figure size 432x288 with 2 Axes>"
      ]
     },
     "metadata": {
      "needs_background": "light"
     },
     "output_type": "display_data"
    }
   ],
   "source": [
    "sb.heatmap(df_stages.drop(axis=1, columns='Total').corr(), annot=True, cmap='coolwarm')"
   ]
  },
  {
   "cell_type": "markdown",
   "metadata": {},
   "source": [
    "# Exercici 4\n"
   ]
  },
  {
   "cell_type": "code",
   "execution_count": null,
   "metadata": {},
   "outputs": [],
   "source": [
    "import statistics\n"
   ]
  },
  {
   "cell_type": "code",
   "execution_count": 65,
   "metadata": {},
   "outputs": [
    {
     "name": "stdout",
     "output_type": "stream",
     "text": [
      "Mitjana Geomètrica de Total: 702.59\n"
     ]
    }
   ],
   "source": [
    "print(f\"Mitjana Geomètrica de Total: {round(statistics.geometric_mean(df_stages['Total'].dropna()), 2)}\")"
   ]
  },
  {
   "cell_type": "code",
   "execution_count": 68,
   "metadata": {},
   "outputs": [
    {
     "name": "stdout",
     "output_type": "stream",
     "text": [
      "Mitjana Harmònica de Total: 89.43\n"
     ]
    }
   ],
   "source": [
    "print(f\"Mitjana Harmònica de Total: {round(statistics.harmonic_mean(df_stages['Total'].dropna()), 2)}\")\n"
   ]
  },
  {
   "cell_type": "code",
   "execution_count": null,
   "metadata": {},
   "outputs": [],
   "source": []
  }
 ],
 "metadata": {
  "kernelspec": {
   "display_name": "Python 3",
   "language": "python",
   "name": "python3"
  },
  "language_info": {
   "codemirror_mode": {
    "name": "ipython",
    "version": 3
   },
   "file_extension": ".py",
   "mimetype": "text/x-python",
   "name": "python",
   "nbconvert_exporter": "python",
   "pygments_lexer": "ipython3",
   "version": "3.8.5"
  }
 },
 "nbformat": 4,
 "nbformat_minor": 4
}
