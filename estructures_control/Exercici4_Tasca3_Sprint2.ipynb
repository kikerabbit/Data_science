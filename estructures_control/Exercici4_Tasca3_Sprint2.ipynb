{
 "cells": [
  {
   "cell_type": "code",
   "execution_count": null,
   "metadata": {},
   "outputs": [],
   "source": [
    "llista = []\n",
    "for x in range(15):\n",
    "    valor=int(input(\"Intodueix un numero enter:\"))\n",
    "    llista.append(valor)\n",
    "print(llista)\n",
    "print(len(llista))\n",
    "reverse = llista[15::-1]\n",
    "print(reverse)\n",
    "\n",
    "def sime(llista, reverse):\n",
    "    for i in range(len(llista)):\n",
    "        if llista[i]!=reverse[i]:\n",
    "            return False\n",
    "    return True\n",
    "\n",
    "if (sime(llista,reverse)):\n",
    "    print(\"Es un llista simètrica\")\n",
    "else:\n",
    "    print(\"No són llistes simètriques\")\n",
    "    \n",
    "\n",
    "\n",
    "\n",
    "    \n"
   ]
  },
  {
   "cell_type": "markdown",
   "metadata": {},
   "source": []
  }
 ],
 "metadata": {
  "kernelspec": {
   "display_name": "Python 3",
   "language": "python",
   "name": "python3"
  },
  "language_info": {
   "codemirror_mode": {
    "name": "ipython",
    "version": 3
   },
   "file_extension": ".py",
   "mimetype": "text/x-python",
   "name": "python",
   "nbconvert_exporter": "python",
   "pygments_lexer": "ipython3",
   "version": "3.8.5"
  }
 },
 "nbformat": 4,
 "nbformat_minor": 4
}
