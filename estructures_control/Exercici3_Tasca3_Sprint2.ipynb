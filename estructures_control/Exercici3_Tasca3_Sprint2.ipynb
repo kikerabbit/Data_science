{
 "cells": [
  {
   "cell_type": "code",
   "execution_count": null,
   "metadata": {},
   "outputs": [],
   "source": [
    "nom = input(\"Quin és el teu nom?:\")\n",
    "numero = int(input(\"Indica un número de 0 a 100:\"))\n",
    "if numero <= 0 or numero > 100:\n",
    "    print(\"Aquest numero no és valid\") \n",
    "else:\n",
    "    print(nom * numero)\n",
    "    \n"
   ]
  }
 ],
 "metadata": {
  "kernelspec": {
   "display_name": "Python 3",
   "language": "python",
   "name": "python3"
  },
  "language_info": {
   "codemirror_mode": {
    "name": "ipython",
    "version": 3
   },
   "file_extension": ".py",
   "mimetype": "text/x-python",
   "name": "python",
   "nbconvert_exporter": "python",
   "pygments_lexer": "ipython3",
   "version": "3.8.5"
  }
 },
 "nbformat": 4,
 "nbformat_minor": 4
}
