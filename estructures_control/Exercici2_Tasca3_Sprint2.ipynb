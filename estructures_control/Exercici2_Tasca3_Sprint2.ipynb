{
 "cells": [
  {
   "cell_type": "code",
   "execution_count": 1,
   "metadata": {},
   "outputs": [
    {
     "name": "stdout",
     "output_type": "stream",
     "text": [
      "Introdueix el número A:7\n",
      "Introdueix el número B:3\n",
      "EL número A és més gran que el numero B\n"
     ]
    }
   ],
   "source": [
    "x = float(input('Introdueix el número A:'))\n",
    "y = float(input('Introdueix el número B:'))\n",
    "print('EL número A és més gran que el numero B') if x > y else print('El numero B és més gran que el núemero A') if y > x else print('ELs númeors A y B són iguals')\n"
   ]
  },
  {
   "cell_type": "code",
   "execution_count": null,
   "metadata": {},
   "outputs": [],
   "source": []
  },
  {
   "cell_type": "code",
   "execution_count": null,
   "metadata": {},
   "outputs": [],
   "source": []
  }
 ],
 "metadata": {
  "kernelspec": {
   "display_name": "Python 3",
   "language": "python",
   "name": "python3"
  },
  "language_info": {
   "codemirror_mode": {
    "name": "ipython",
    "version": 3
   },
   "file_extension": ".py",
   "mimetype": "text/x-python",
   "name": "python",
   "nbconvert_exporter": "python",
   "pygments_lexer": "ipython3",
   "version": "3.8.5"
  }
 },
 "nbformat": 4,
 "nbformat_minor": 4
}
