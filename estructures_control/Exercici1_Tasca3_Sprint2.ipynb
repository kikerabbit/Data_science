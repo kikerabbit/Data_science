{
 "cells": [
  {
   "cell_type": "code",
   "execution_count": 1,
   "metadata": {},
   "outputs": [
    {
     "name": "stdout",
     "output_type": "stream",
     "text": [
      "Entrar una nota conseguida: 5.8\n",
      "Has tret un APROVAT\n"
     ]
    }
   ],
   "source": [
    "x = float(input(\"Entrar una nota conseguida: \"))\n",
    "if x < 5:\n",
    "    print('Has tret un SUSPÈS')\n",
    "elif x < 7:\n",
    "    print('Has tret un APROVAT')\n",
    "elif x < 9:\n",
    "    print('Has tret un NOTABLE')\n",
    "else:\n",
    "    print('FELICITATS, Tens una EXELENT!!')\n",
    "\n"
   ]
  },
  {
   "cell_type": "code",
   "execution_count": 2,
   "metadata": {},
   "outputs": [
    {
     "name": "stdout",
     "output_type": "stream",
     "text": [
      "Entrar una nota conseguida: 9.2\n",
      "FELICITATS, Tens una EXELENT!!\n"
     ]
    }
   ],
   "source": [
    "x = float(input(\"Entrar una nota conseguida: \"))\n",
    "if x < 5:\n",
    "    print('Has tret un SUSPÈS')\n",
    "elif x < 7:\n",
    "    print('Has tret un APROVAT')\n",
    "elif x < 9:\n",
    "    print('Has tret un NOTABLE')\n",
    "else:\n",
    "    print('FELICITATS, Tens una EXELENT!!')"
   ]
  }
 ],
 "metadata": {
  "kernelspec": {
   "display_name": "Python 3",
   "language": "python",
   "name": "python3"
  },
  "language_info": {
   "codemirror_mode": {
    "name": "ipython",
    "version": 3
   },
   "file_extension": ".py",
   "mimetype": "text/x-python",
   "name": "python",
   "nbconvert_exporter": "python",
   "pygments_lexer": "ipython3",
   "version": "3.8.5"
  }
 },
 "nbformat": 4,
 "nbformat_minor": 4
}
