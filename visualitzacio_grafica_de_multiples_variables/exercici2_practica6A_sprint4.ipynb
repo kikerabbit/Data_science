{
 "cells": [
  {
   "cell_type": "code",
   "execution_count": 12,
   "metadata": {},
   "outputs": [
    {
     "ename": "FileNotFoundError",
     "evalue": "[Errno 2] No such file or directory: 'movies.dat'",
     "output_type": "error",
     "traceback": [
      "\u001b[1;31m---------------------------------------------------------------------------\u001b[0m",
      "\u001b[1;31mFileNotFoundError\u001b[0m                         Traceback (most recent call last)",
      "\u001b[1;32m<ipython-input-12-addb29f8c6ff>\u001b[0m in \u001b[0;36m<module>\u001b[1;34m\u001b[0m\n\u001b[0;32m      9\u001b[0m \u001b[1;33m\u001b[0m\u001b[0m\n\u001b[0;32m     10\u001b[0m \u001b[1;31m# Open the choosen file\u001b[0m\u001b[1;33m\u001b[0m\u001b[1;33m\u001b[0m\u001b[1;33m\u001b[0m\u001b[0m\n\u001b[1;32m---> 11\u001b[1;33m \u001b[0mfile\u001b[0m \u001b[1;33m=\u001b[0m \u001b[0mopen\u001b[0m\u001b[1;33m(\u001b[0m\u001b[1;34m'movies.dat'\u001b[0m\u001b[1;33m)\u001b[0m\u001b[1;33m.\u001b[0m\u001b[0mread\u001b[0m\u001b[1;33m(\u001b[0m\u001b[1;33m)\u001b[0m\u001b[1;33m\u001b[0m\u001b[1;33m\u001b[0m\u001b[0m\n\u001b[0m\u001b[0;32m     12\u001b[0m \u001b[1;33m\u001b[0m\u001b[0m\n\u001b[0;32m     13\u001b[0m \u001b[0mfile\u001b[0m\u001b[1;33m.\u001b[0m\u001b[0mshape\u001b[0m\u001b[1;33m\u001b[0m\u001b[1;33m\u001b[0m\u001b[0m\n",
      "\u001b[1;31mFileNotFoundError\u001b[0m: [Errno 2] No such file or directory: 'movies.dat'"
     ]
    }
   ],
   "source": [
    "# importing libraries\n",
    "import numpy as np\n",
    "import pandas as pd\n",
    "import matplotlib.pyplot as plt\n",
    "import seaborn as sns\n",
    "import warnings\n",
    "\n",
    "warnings.filterwarnings('ignore')\n",
    "\n",
    "# Open the choosen file\n",
    "file = open('movies.dat').read()\n",
    "\n",
    "file.shape\n",
    "file.columns\n",
    "print(file)\n",
    "\n",
    "#Describe\n",
    "print(county.describe())\n",
    "\n",
    "# Create data\n",
    "x = county.total_bill\n",
    "y = county.tip\n",
    "colors = 'Blue'\n",
    "area = np.pi*5\n",
    "\n",
    "plt.axis([0, 60, 0, 20])\n",
    "\n",
    "# Scatter\n",
    "plt.scatter(x, y, s=area, c=colors, alpha=0.4, edgecolors='black')\n",
    "\n",
    "plt.title('Total_Bill vs Tips')\n",
    "plt.ylabel('tip')\n",
    "plt.xlabel('total_bill')\n",
    "plt.show()\n",
    "\n",
    "\n",
    "\n",
    "#Histograma1\n",
    "\n",
    "plt.hist(county['tip'], bins=4, color='#F2AB6D', rwidth=0.85)\n",
    "plt.title('Day week - tips')\n",
    "plt.ylabel('tip')\n",
    "plt.xlabel('day')\n",
    "plt.show()\n",
    "\n",
    "#Histograma2\n",
    "sns.barplot(x='tip', y='day', data=county)\n",
    "plt.show()\n",
    "\n",
    "#Boxplot 1\n",
    "boxplot=county.boxplot(column=['total_bill','tip'])\n",
    "plt.title('Comparativa total_bill and tip')\n",
    "plt.show()\n",
    "\n",
    "#Pie\n",
    "sums = county.groupby(county['sex'])['tip'].sum()\n",
    "\n",
    "plt.pie(sums, labels=sums.index);\n",
    "plt.title('Tip versus sex')\n",
    "plt.show()\n",
    "\n",
    "#Pie 2\n",
    "sums = county.groupby(county['sex'])['total_bill'].sum()\n",
    "\n",
    "plt.pie(sums, labels=sums.index);\n",
    "plt.title('Total_bill versus sex')\n",
    "plt.show()\n",
    "\n",
    "\n",
    "\n",
    "\n"
   ]
  },
  {
   "cell_type": "code",
   "execution_count": null,
   "metadata": {},
   "outputs": [],
   "source": []
  }
 ],
 "metadata": {
  "kernelspec": {
   "display_name": "Python 3",
   "language": "python",
   "name": "python3"
  },
  "language_info": {
   "codemirror_mode": {
    "name": "ipython",
    "version": 3
   },
   "file_extension": ".py",
   "mimetype": "text/x-python",
   "name": "python",
   "nbconvert_exporter": "python",
   "pygments_lexer": "ipython3",
   "version": "3.8.5"
  }
 },
 "nbformat": 4,
 "nbformat_minor": 4
}
