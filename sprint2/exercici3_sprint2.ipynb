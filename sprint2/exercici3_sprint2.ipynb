{
 "cells": [
  {
   "cell_type": "code",
   "execution_count": 1,
   "metadata": {},
   "outputs": [
    {
     "name": "stdout",
     "output_type": "stream",
     "text": [
      "Quants números hi ha?: 20\n",
      "Quantes vegades apareix el numero 3?: 4\n",
      "Quantes vegades apareixen el nombres 3 i 4?: 5\n",
      "Quin és el numero més gran?; 55\n",
      "[0, 3, 4, 5, 6, 7, 8, 9, 10, 11, 15, 21, 22, 55]\n",
      "Quins són els númeors més petits? [0, 3, 4]\n",
      "Quin és el rang d'aquesta llista?: 55\n"
     ]
    }
   ],
   "source": [
    "num_des = [3,5,7,0,3,6,7,9,11,3,4,15,6,8,3,21,15,22,55,10]\n",
    "x = len(num_des)\n",
    "print('Quants números hi ha?:', x)\n",
    "y = num_des.count(3)\n",
    "print('Quantes vegades apareix el numero 3?:', y)\n",
    "z = num_des.count(4) + y\n",
    "print('Quantes vegades apareixen el nombres 3 i 4?:', z)\n",
    "num_ord = sorted(num_des)\n",
    "print('Quin és el numero més gran?;',num_ord[-1])\n",
    "num_ord_set = set(num_ord)\n",
    "new_num_ord = list((num_ord_set))\n",
    "print(new_num_ord)\n",
    "print('Quins són els númeors més petits?', new_num_ord[:3])\n",
    "min = new_num_ord[0]\n",
    "max = new_num_ord[-1]\n",
    "rang = max-min\n",
    "print('Quin és el rang d\\'aquesta llista?:', rang)"
   ]
  },
  {
   "cell_type": "code",
   "execution_count": null,
   "metadata": {},
   "outputs": [],
   "source": []
  }
 ],
 "metadata": {
  "kernelspec": {
   "display_name": "Python 3",
   "language": "python",
   "name": "python3"
  },
  "language_info": {
   "codemirror_mode": {
    "name": "ipython",
    "version": 3
   },
   "file_extension": ".py",
   "mimetype": "text/x-python",
   "name": "python",
   "nbconvert_exporter": "python",
   "pygments_lexer": "ipython3",
   "version": "3.8.5"
  }
 },
 "nbformat": 4,
 "nbformat_minor": 4
}
